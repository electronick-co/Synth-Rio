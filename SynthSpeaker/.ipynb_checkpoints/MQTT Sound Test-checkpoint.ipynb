{
 "cells": [
  {
   "cell_type": "markdown",
   "id": "a7fca5cd",
   "metadata": {},
   "source": [
    "## 1. Import libraries"
   ]
  },
  {
   "cell_type": "code",
   "execution_count": 1,
   "id": "fb120581",
   "metadata": {},
   "outputs": [],
   "source": [
    "from paho.mqtt import client as mqtt_client\n",
    "import time\n",
    "from ipywidgets import interact, interactive, fixed, interact_manual\n",
    "import ipywidgets as widgets\n",
    "import matplotlib.pyplot as plt\n",
    "import numpy as np\n",
    "# if using a jupyter notebook\n",
    "%matplotlib inline  "
   ]
  },
  {
   "cell_type": "code",
   "execution_count": 2,
   "id": "96b24f0a",
   "metadata": {},
   "outputs": [],
   "source": [
    "broker = '192.168.3.71'\n",
    "port = 1883\n",
    "topic = \"SynthRio/magdalena\"\n",
    "client_id = 'Nick'\n",
    "# username = 'emqx'\n",
    "# password = 'public'"
   ]
  },
  {
   "cell_type": "code",
   "execution_count": 3,
   "id": "96c7dced",
   "metadata": {},
   "outputs": [],
   "source": [
    "def connect_mqtt():\n",
    "    def on_connect(client, userdata, flags, rc):\n",
    "        if rc == 0:\n",
    "            print(\"Connected to MQTT Broker!\")\n",
    "        else:\n",
    "            print(\"Failed to connect, return code %d\\n\", rc)\n",
    "    # Set Connecting Client ID\n",
    "    client = mqtt_client.Client(client_id)\n",
    "    #client.username_pw_set(username, password)\n",
    "    client.on_connect = on_connect\n",
    "    client.connect(broker, port)\n",
    "    return client"
   ]
  },
  {
   "cell_type": "code",
   "execution_count": 4,
   "id": "955ebc30",
   "metadata": {},
   "outputs": [],
   "source": [
    "def publish(client):\n",
    "    msg_count = 0\n",
    "    while True:\n",
    "        time.sleep(1)\n",
    "        msg = f\"messages: {msg_count}\"\n",
    "        result = client.publish(topic, msg)\n",
    "        # result: [0, 1]\n",
    "        status = result[0]\n",
    "        if status == 0:\n",
    "            print(f\"Send `{msg}` to topic `{topic}`\")\n",
    "        else:\n",
    "            print(f\"Failed to send message to topic {topic}\")\n",
    "        msg_count += 1\n"
   ]
  },
  {
   "cell_type": "code",
   "execution_count": 5,
   "id": "ca3a0e59",
   "metadata": {},
   "outputs": [
    {
     "name": "stdout",
     "output_type": "stream",
     "text": [
      "Connected to MQTT Broker!\n",
      "Connected to MQTT Broker!\n"
     ]
    }
   ],
   "source": [
    "client = connect_mqtt()\n",
    "client.loop_start()\n",
    "#publish(client)"
   ]
  },
  {
   "cell_type": "code",
   "execution_count": 6,
   "id": "a09c2f8e",
   "metadata": {},
   "outputs": [
    {
     "name": "stdout",
     "output_type": "stream",
     "text": [
      "Connected to MQTT Broker!\n",
      "Connected to MQTT Broker!\n",
      "Connected to MQTT Broker!\n"
     ]
    }
   ],
   "source": [
    "river_list = [\"cauca\",\n",
    "              \"nilo\",\n",
    "              \"magdalena\",\n",
    "              \"atrato\",\n",
    "              \"meta\",\n",
    "              \"orinoco\",\n",
    "              \"amazonas\",\n",
    "              \"putumayo\"]\n",
    "def river_set(river, p1,p2,p3):\n",
    "#     if river == \"all\":\n",
    "#         for current_river in river_list:\n",
    "#             data_topic = f'SynthRio/{current_river}/data'\n",
    "#             result = client.publish(data_topic, f'{p1},{p2},{p3}')\n",
    "#     else:\n",
    "    data_topic = f'SynthRio/{river}/data'\n",
    "#     config_topic = f'SynthRio/{river}/config'\n",
    "    print(data_topic)\n",
    "#     print(config_topic)\n",
    "    result = client.publish(data_topic, f'{p1},{p2},{p3}')\n",
    "#     result = client.publish(config_topic, gain)"
   ]
  },
  {
   "cell_type": "code",
   "execution_count": 7,
   "id": "11649dda",
   "metadata": {},
   "outputs": [
    {
     "name": "stdout",
     "output_type": "stream",
     "text": [
      "Connected to MQTT Broker!\n",
      "Connected to MQTT Broker!\n",
      "Connected to MQTT Broker!\n"
     ]
    }
   ],
   "source": [
    "all_rivers_ui = interactive(river_set,                   \n",
    "      river=[('Todos','all'),\n",
    "             ('Cauca','cauca'),\n",
    "             ('Nilo','nilo'),\n",
    "             ('Magdalena','magdalena'),\n",
    "             ('Arato','atrato'),\n",
    "             ('Meta','meta'),\n",
    "             ('Orinoco','orinoco'),\n",
    "             ('Amazonas','amazonas'),\n",
    "             ('Sinu','sinu'),\n",
    "             ('Putumayo','putumayo')],\n",
    "      p1=widgets.IntSlider(min=0,max=1023, value=255, continuous_update=True),\n",
    "      p2=widgets.IntSlider(min=0,max=1023, value=255, continuous_update=True),\n",
    "      p3=widgets.IntSlider(min=0,max=1023, value=255, continuous_update=True),\n",
    "      )"
   ]
  },
  {
   "cell_type": "code",
   "execution_count": 8,
   "id": "2aca7e38",
   "metadata": {},
   "outputs": [
    {
     "data": {
      "application/vnd.jupyter.widget-view+json": {
       "model_id": "caa74261d7cb4325b48ebc0187b4484b",
       "version_major": 2,
       "version_minor": 0
      },
      "text/plain": [
       "interactive(children=(Dropdown(description='river', options=(('Todos', 'all'), ('Cauca', 'cauca'), ('Nilo', 'n…"
      ]
     },
     "metadata": {},
     "output_type": "display_data"
    },
    {
     "name": "stdout",
     "output_type": "stream",
     "text": [
      "Connected to MQTT Broker!\n",
      "Connected to MQTT Broker!\n",
      "Connected to MQTT Broker!\n",
      "Connected to MQTT Broker!\n",
      "Connected to MQTT Broker!\n",
      "Connected to MQTT Broker!\n",
      "Connected to MQTT Broker!\n",
      "Connected to MQTT Broker!\n",
      "Connected to MQTT Broker!\n",
      "Connected to MQTT Broker!\n",
      "Connected to MQTT Broker!\n",
      "Connected to MQTT Broker!\n",
      "Connected to MQTT Broker!\n",
      "Connected to MQTT Broker!\n",
      "Connected to MQTT Broker!\n",
      "Connected to MQTT Broker!\n",
      "Connected to MQTT Broker!\n",
      "Connected to MQTT Broker!\n",
      "Connected to MQTT Broker!\n",
      "Connected to MQTT Broker!\n",
      "Connected to MQTT Broker!\n",
      "Connected to MQTT Broker!\n",
      "Connected to MQTT Broker!\n",
      "Connected to MQTT Broker!\n",
      "Connected to MQTT Broker!\n",
      "Connected to MQTT Broker!\n",
      "Connected to MQTT Broker!\n",
      "Connected to MQTT Broker!\n",
      "Connected to MQTT Broker!\n",
      "Connected to MQTT Broker!\n",
      "Connected to MQTT Broker!\n",
      "Connected to MQTT Broker!\n",
      "Connected to MQTT Broker!\n",
      "Connected to MQTT Broker!\n",
      "Connected to MQTT Broker!\n",
      "Connected to MQTT Broker!\n",
      "Connected to MQTT Broker!\n",
      "Connected to MQTT Broker!\n",
      "Connected to MQTT Broker!\n",
      "Connected to MQTT Broker!\n",
      "Connected to MQTT Broker!\n",
      "Connected to MQTT Broker!\n",
      "Connected to MQTT Broker!\n",
      "Connected to MQTT Broker!\n",
      "Connected to MQTT Broker!\n",
      "Connected to MQTT Broker!\n",
      "Connected to MQTT Broker!\n",
      "Connected to MQTT Broker!\n",
      "Connected to MQTT Broker!\n",
      "Connected to MQTT Broker!\n",
      "Connected to MQTT Broker!\n",
      "Connected to MQTT Broker!\n",
      "Connected to MQTT Broker!\n",
      "Connected to MQTT Broker!\n",
      "Connected to MQTT Broker!\n",
      "Connected to MQTT Broker!\n",
      "Connected to MQTT Broker!\n",
      "Connected to MQTT Broker!\n",
      "Connected to MQTT Broker!\n",
      "Connected to MQTT Broker!\n",
      "Connected to MQTT Broker!\n",
      "Connected to MQTT Broker!\n",
      "Connected to MQTT Broker!\n",
      "Connected to MQTT Broker!\n",
      "Connected to MQTT Broker!\n",
      "Connected to MQTT Broker!\n",
      "Connected to MQTT Broker!\n",
      "Connected to MQTT Broker!\n",
      "Connected to MQTT Broker!\n",
      "Connected to MQTT Broker!\n",
      "Connected to MQTT Broker!\n",
      "Connected to MQTT Broker!\n",
      "Connected to MQTT Broker!\n",
      "Connected to MQTT Broker!\n",
      "Connected to MQTT Broker!\n",
      "Connected to MQTT Broker!\n",
      "Connected to MQTT Broker!\n",
      "Connected to MQTT Broker!\n"
     ]
    }
   ],
   "source": [
    "display(all_rivers_ui)"
   ]
  },
  {
   "cell_type": "code",
   "execution_count": null,
   "id": "31045342",
   "metadata": {},
   "outputs": [],
   "source": []
  }
 ],
 "metadata": {
  "kernelspec": {
   "display_name": "Python 3 (ipykernel)",
   "language": "python",
   "name": "python3"
  },
  "language_info": {
   "codemirror_mode": {
    "name": "ipython",
    "version": 3
   },
   "file_extension": ".py",
   "mimetype": "text/x-python",
   "name": "python",
   "nbconvert_exporter": "python",
   "pygments_lexer": "ipython3",
   "version": "3.8.10"
  }
 },
 "nbformat": 4,
 "nbformat_minor": 5
}
